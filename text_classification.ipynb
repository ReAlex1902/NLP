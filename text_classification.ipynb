{
  "nbformat": 4,
  "nbformat_minor": 0,
  "metadata": {
    "kernelspec": {
      "language": "python",
      "display_name": "Python 3",
      "name": "python3"
    },
    "language_info": {
      "pygments_lexer": "ipython3",
      "nbconvert_exporter": "python",
      "version": "3.6.4",
      "file_extension": ".py",
      "codemirror_mode": {
        "name": "ipython",
        "version": 3
      },
      "name": "python",
      "mimetype": "text/x-python"
    },
    "colab": {
      "name": "ДТЗ PM18_4_А.Малхасов_В12.ipynb",
      "provenance": [],
      "collapsed_sections": [],
      "toc_visible": true,
      "include_colab_link": true
    },
    "accelerator": "GPU"
  },
  "cells": [
    {
      "cell_type": "markdown",
      "metadata": {
        "id": "view-in-github",
        "colab_type": "text"
      },
      "source": [
        "<a href=\"https://colab.research.google.com/github/ReAlex1902/NLP/blob/main/text_classification.ipynb\" target=\"_parent\"><img src=\"https://colab.research.google.com/assets/colab-badge.svg\" alt=\"Open In Colab\"/></a>"
      ]
    },
    {
      "cell_type": "markdown",
      "metadata": {
        "id": "FRxOhPG0SqQE"
      },
      "source": [
        "# While working through colab run next scripts to load data"
      ]
    },
    {
      "cell_type": "code",
      "metadata": {
        "colab": {
          "base_uri": "https://localhost:8080/"
        },
        "id": "zAlqtsw2RTnH",
        "outputId": "d85843eb-e40e-4f27-d3e9-bbd8ab1ea982"
      },
      "source": [
        "!pip install kaggle"
      ],
      "execution_count": null,
      "outputs": [
        {
          "output_type": "stream",
          "text": [
            "Requirement already satisfied: kaggle in /usr/local/lib/python3.7/dist-packages (1.5.12)\n",
            "Requirement already satisfied: six>=1.10 in /usr/local/lib/python3.7/dist-packages (from kaggle) (1.15.0)\n",
            "Requirement already satisfied: certifi in /usr/local/lib/python3.7/dist-packages (from kaggle) (2020.12.5)\n",
            "Requirement already satisfied: requests in /usr/local/lib/python3.7/dist-packages (from kaggle) (2.23.0)\n",
            "Requirement already satisfied: python-slugify in /usr/local/lib/python3.7/dist-packages (from kaggle) (5.0.2)\n",
            "Requirement already satisfied: urllib3 in /usr/local/lib/python3.7/dist-packages (from kaggle) (1.24.3)\n",
            "Requirement already satisfied: python-dateutil in /usr/local/lib/python3.7/dist-packages (from kaggle) (2.8.1)\n",
            "Requirement already satisfied: tqdm in /usr/local/lib/python3.7/dist-packages (from kaggle) (4.41.1)\n",
            "Requirement already satisfied: chardet<4,>=3.0.2 in /usr/local/lib/python3.7/dist-packages (from requests->kaggle) (3.0.4)\n",
            "Requirement already satisfied: idna<3,>=2.5 in /usr/local/lib/python3.7/dist-packages (from requests->kaggle) (2.10)\n",
            "Requirement already satisfied: text-unidecode>=1.3 in /usr/local/lib/python3.7/dist-packages (from python-slugify->kaggle) (1.3)\n"
          ],
          "name": "stdout"
        }
      ]
    },
    {
      "cell_type": "code",
      "metadata": {
        "colab": {
          "resources": {
            "http://localhost:8080/nbextensions/google.colab/files.js": {
              "data": "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",
              "ok": true,
              "headers": [
                [
                  "content-type",
                  "application/javascript"
                ]
              ],
              "status": 200,
              "status_text": ""
            }
          },
          "base_uri": "https://localhost:8080/",
          "height": 56
        },
        "id": "WYP8CtwARlzt",
        "outputId": "bfe23df6-fecd-4021-acf7-1404911dca49"
      },
      "source": [
        "## upload your kaggle.json\n",
        "\n",
        "from google.colab import files\n",
        "files.upload()"
      ],
      "execution_count": null,
      "outputs": [
        {
          "output_type": "display_data",
          "data": {
            "text/html": [
              "\n",
              "     <input type=\"file\" id=\"files-469e53bc-e43d-4956-978b-73c2066fb15a\" name=\"files[]\" multiple disabled\n",
              "        style=\"border:none\" />\n",
              "     <output id=\"result-469e53bc-e43d-4956-978b-73c2066fb15a\">\n",
              "      Upload widget is only available when the cell has been executed in the\n",
              "      current browser session. Please rerun this cell to enable.\n",
              "      </output>\n",
              "      <script src=\"/nbextensions/google.colab/files.js\"></script> "
            ],
            "text/plain": [
              "<IPython.core.display.HTML object>"
            ]
          },
          "metadata": {
            "tags": []
          }
        },
        {
          "output_type": "execute_result",
          "data": {
            "text/plain": [
              "{}"
            ]
          },
          "metadata": {
            "tags": []
          },
          "execution_count": 4
        }
      ]
    },
    {
      "cell_type": "code",
      "metadata": {
        "id": "ftZ0hFNvRmTC"
      },
      "source": [
        "# before importing the dataset we want to use this code\n",
        "# The Kaggle API client expects this file to be in ~/.kaggle,\n",
        "!mkdir -p ~/.kaggle\n",
        "!cp kaggle.json ~/.kaggle/\n",
        "\n",
        "# This permissions change avoids a warning on Kaggle tool startup.\n",
        "!chmod 600 ~/.kaggle/kaggle.json"
      ],
      "execution_count": null,
      "outputs": []
    },
    {
      "cell_type": "code",
      "metadata": {
        "colab": {
          "base_uri": "https://localhost:8080/"
        },
        "id": "UIXMFIPjR2cM",
        "outputId": "a39be6e9-bcde-488d-cbf6-18e544291fe4"
      },
      "source": [
        "!kaggle datasets download -d sohelranaccselab/lingspam-classification"
      ],
      "execution_count": null,
      "outputs": [
        {
          "output_type": "stream",
          "text": [
            "Downloading lingspam-classification.zip to /content\n",
            "\r  0% 0.00/3.12M [00:00<?, ?B/s]\n",
            "\r100% 3.12M/3.12M [00:00<00:00, 103MB/s]\n"
          ],
          "name": "stdout"
        }
      ]
    },
    {
      "cell_type": "code",
      "metadata": {
        "id": "eug-8UuISE8-"
      },
      "source": [
        "# Downloading dataset:\n",
        "from zipfile import ZipFile\n",
        "import os\n",
        "import pandas as pd\n",
        "\n",
        "# # The below code is ran in google colab\n",
        "# os.environ[\"KAGGLE_USERNAME\"] = \"KAGGLE_USERNAME\"  # username from the json file\n",
        "# os.environ[\"KAGGLE_KEY\"] = \"KAGGLE_KEY\"  # key from the json file\n",
        "# !kaggle datasets download -d praveengovi/coronahack-chest-xraydataset  # api copied from kaggle\n",
        "\n",
        "# Create a ZipFile Object and load chest-xray-pneumonia.zip in it\n",
        "with ZipFile(\"/content/lingspam-classification.zip\", \"r\") as zipObj:\n",
        "    # Extract all the contents of zip file in current directory\n",
        "    zipObj.extractall()\n",
        "\n",
        "# KAGGLE LINK: https://www.kaggle.com/praveengovi/coronahack-chest-xraydataset"
      ],
      "execution_count": null,
      "outputs": []
    },
    {
      "cell_type": "code",
      "metadata": {
        "trusted": true,
        "id": "cadi_clrRPaB"
      },
      "source": [
        "import numpy as np\n",
        "import pandas as pd\n",
        "import torch\n",
        "import torch.nn as nn\n",
        "from torch.utils.data import Dataset, DataLoader\n",
        "\n",
        "import matplotlib.pyplot as plt\n",
        "import seaborn as sns"
      ],
      "execution_count": null,
      "outputs": []
    },
    {
      "cell_type": "markdown",
      "metadata": {
        "id": "18PPwFqwRPaD"
      },
      "source": [
        "### 1. Loading data"
      ]
    },
    {
      "cell_type": "code",
      "metadata": {
        "trusted": true,
        "colab": {
          "base_uri": "https://localhost:8080/",
          "height": 203
        },
        "id": "a8DES99CRPaE",
        "outputId": "918c00fc-8262-4ad4-f491-0b2d7e351c71"
      },
      "source": [
        "# PATH = '../input/lingspam-classification/messages.csv' ## for kaggle\n",
        "PATH = '/content/messages.csv' ## for colab\n",
        "data = pd.read_csv(PATH)\n",
        "data.head()"
      ],
      "execution_count": null,
      "outputs": [
        {
          "output_type": "execute_result",
          "data": {
            "text/html": [
              "<div>\n",
              "<style scoped>\n",
              "    .dataframe tbody tr th:only-of-type {\n",
              "        vertical-align: middle;\n",
              "    }\n",
              "\n",
              "    .dataframe tbody tr th {\n",
              "        vertical-align: top;\n",
              "    }\n",
              "\n",
              "    .dataframe thead th {\n",
              "        text-align: right;\n",
              "    }\n",
              "</style>\n",
              "<table border=\"1\" class=\"dataframe\">\n",
              "  <thead>\n",
              "    <tr style=\"text-align: right;\">\n",
              "      <th></th>\n",
              "      <th>subject</th>\n",
              "      <th>message</th>\n",
              "      <th>label</th>\n",
              "    </tr>\n",
              "  </thead>\n",
              "  <tbody>\n",
              "    <tr>\n",
              "      <th>0</th>\n",
              "      <td>job posting - apple-iss research center</td>\n",
              "      <td>content - length : 3386 apple-iss research cen...</td>\n",
              "      <td>0</td>\n",
              "    </tr>\n",
              "    <tr>\n",
              "      <th>1</th>\n",
              "      <td>NaN</td>\n",
              "      <td>lang classification grimes , joseph e . and ba...</td>\n",
              "      <td>0</td>\n",
              "    </tr>\n",
              "    <tr>\n",
              "      <th>2</th>\n",
              "      <td>query : letter frequencies for text identifica...</td>\n",
              "      <td>i am posting this inquiry for sergei atamas ( ...</td>\n",
              "      <td>0</td>\n",
              "    </tr>\n",
              "    <tr>\n",
              "      <th>3</th>\n",
              "      <td>risk</td>\n",
              "      <td>a colleague and i are researching the differin...</td>\n",
              "      <td>0</td>\n",
              "    </tr>\n",
              "    <tr>\n",
              "      <th>4</th>\n",
              "      <td>request book information</td>\n",
              "      <td>earlier this morning i was on the phone with a...</td>\n",
              "      <td>0</td>\n",
              "    </tr>\n",
              "  </tbody>\n",
              "</table>\n",
              "</div>"
            ],
            "text/plain": [
              "                                             subject  ... label\n",
              "0            job posting - apple-iss research center  ...     0\n",
              "1                                                NaN  ...     0\n",
              "2  query : letter frequencies for text identifica...  ...     0\n",
              "3                                               risk  ...     0\n",
              "4                           request book information  ...     0\n",
              "\n",
              "[5 rows x 3 columns]"
            ]
          },
          "metadata": {
            "tags": []
          },
          "execution_count": 8
        }
      ]
    },
    {
      "cell_type": "markdown",
      "metadata": {
        "id": "aRG3oHctRPaE"
      },
      "source": [
        "### 2. Data processing"
      ]
    },
    {
      "cell_type": "code",
      "metadata": {
        "trusted": true,
        "colab": {
          "base_uri": "https://localhost:8080/",
          "height": 203
        },
        "id": "RDynXuUkRPaF",
        "outputId": "2b11a396-5495-402b-f8ab-055713feae99"
      },
      "source": [
        "data = data.drop('subject', axis = 1)\n",
        "data.head()"
      ],
      "execution_count": null,
      "outputs": [
        {
          "output_type": "execute_result",
          "data": {
            "text/html": [
              "<div>\n",
              "<style scoped>\n",
              "    .dataframe tbody tr th:only-of-type {\n",
              "        vertical-align: middle;\n",
              "    }\n",
              "\n",
              "    .dataframe tbody tr th {\n",
              "        vertical-align: top;\n",
              "    }\n",
              "\n",
              "    .dataframe thead th {\n",
              "        text-align: right;\n",
              "    }\n",
              "</style>\n",
              "<table border=\"1\" class=\"dataframe\">\n",
              "  <thead>\n",
              "    <tr style=\"text-align: right;\">\n",
              "      <th></th>\n",
              "      <th>message</th>\n",
              "      <th>label</th>\n",
              "    </tr>\n",
              "  </thead>\n",
              "  <tbody>\n",
              "    <tr>\n",
              "      <th>0</th>\n",
              "      <td>content - length : 3386 apple-iss research cen...</td>\n",
              "      <td>0</td>\n",
              "    </tr>\n",
              "    <tr>\n",
              "      <th>1</th>\n",
              "      <td>lang classification grimes , joseph e . and ba...</td>\n",
              "      <td>0</td>\n",
              "    </tr>\n",
              "    <tr>\n",
              "      <th>2</th>\n",
              "      <td>i am posting this inquiry for sergei atamas ( ...</td>\n",
              "      <td>0</td>\n",
              "    </tr>\n",
              "    <tr>\n",
              "      <th>3</th>\n",
              "      <td>a colleague and i are researching the differin...</td>\n",
              "      <td>0</td>\n",
              "    </tr>\n",
              "    <tr>\n",
              "      <th>4</th>\n",
              "      <td>earlier this morning i was on the phone with a...</td>\n",
              "      <td>0</td>\n",
              "    </tr>\n",
              "  </tbody>\n",
              "</table>\n",
              "</div>"
            ],
            "text/plain": [
              "                                             message  label\n",
              "0  content - length : 3386 apple-iss research cen...      0\n",
              "1  lang classification grimes , joseph e . and ba...      0\n",
              "2  i am posting this inquiry for sergei atamas ( ...      0\n",
              "3  a colleague and i are researching the differin...      0\n",
              "4  earlier this morning i was on the phone with a...      0"
            ]
          },
          "metadata": {
            "tags": []
          },
          "execution_count": 9
        }
      ]
    },
    {
      "cell_type": "code",
      "metadata": {
        "trusted": true,
        "colab": {
          "base_uri": "https://localhost:8080/",
          "height": 176
        },
        "id": "01GJjN9wRPaG",
        "outputId": "264533e8-1430-4fea-9b19-062ea9fe7f96"
      },
      "source": [
        "data['message'][0]"
      ],
      "execution_count": null,
      "outputs": [
        {
          "output_type": "execute_result",
          "data": {
            "application/vnd.google.colaboratory.intrinsic+json": {
              "type": "string"
            },
            "text/plain": [
              "\"content - length : 3386 apple-iss research center a us $ 10 million joint venture between apple computer inc . and the institute of systems science of the national university of singapore , located in singapore , is looking for : a senior speech scientist - - - - - - - - - - - - - - - - - - - - - - - - - the successful candidate will have research expertise in computational linguistics , including natural language processing and * * english * * and * * chinese * * statistical language modeling . knowledge of state-of - the-art corpus-based n - gram language models , cache language models , and part-of - speech language models are required . a text - to - speech project leader - - - - - - - - - - - - - - - - - - - - - - - - - - - - - - - the successful candidate will have research expertise expertise in two or more of the following areas : computational linguistics , including natural language parsing , lexical database design , and statistical language modeling ; text tokenization and normalization ; prosodic analysis . substantial knowledge of the phonology , syntax , and semantics of chinese is required . knowledge of acoustic phonetics and / or speech signal processing is desirable . both candidates will have a phd with at least 2 to 4 years of relevant work experience , or a technical msc degree with at least 5 to 7 years of experienc e . very strong software engineering skills , including design and implementation , and productization are required in these positions . knowledge of c , c + + and unix are preferred . a unix & c programmer - - - - - - - - - - - - - - - - - - - - we are looking for an experienced unix & c programmer , preferably with good industry experience , to join us in breaking new frontiers . strong knowledge of unix tools ( compilers , linkers , make , x - windows , e - mac , . . . ) and experience in matlab required . sun and silicon graphic experience is an advantage . programmers with less than two years industry experience need not apply . these positions include interaction with scientists in the national university of singapore , and with apple 's speech research and productization efforts located in cupertino , california . attendance and publication in international scientific / engineering conferences is encouraged . benefits include an internationally competitive salary , housing subsidy , and relocation expenses . _ _ _ _ _ _ _ _ _ _ _ _ _ _ _ _ _ _ _ _ _ _ _ _ _ _ _ _ _ _ _ _ _ _ _ _ _ _ _ _ _ _ _ _ _ _ _ _ _ _ _ _ _ _ _ _ _ _ _ _ _ _ _ _ _ _ send a complete resume , enclosing personal particulars , qualifications , experience and contact telephone number to : mr jean - luc lebrun center manager apple - iss research center , institute of systems science heng mui keng terrace , singapore 0511 tel : ( 65 ) 772-6571 fax : ( 65 ) 776-4005 email : jllebrun @ iss . nus . sg\\n\""
            ]
          },
          "metadata": {
            "tags": []
          },
          "execution_count": 10
        }
      ]
    },
    {
      "cell_type": "code",
      "metadata": {
        "trusted": true,
        "colab": {
          "base_uri": "https://localhost:8080/",
          "height": 203
        },
        "id": "LRU4Y9udRPaG",
        "outputId": "4749afb1-eeec-49bb-bd24-f655b45f55e7"
      },
      "source": [
        "import re\n",
        "\n",
        "def preprocess_text(text):\n",
        "    text = text.lower()\n",
        "    text = re.sub(r\"[^a-zA-Z.,!?]\", \" \", text)\n",
        "    text = re.sub('\\s+', ' ', text)\n",
        "    return text\n",
        "\n",
        "data['message'] = data['message'].apply(preprocess_text)\n",
        "data.head()"
      ],
      "execution_count": null,
      "outputs": [
        {
          "output_type": "execute_result",
          "data": {
            "text/html": [
              "<div>\n",
              "<style scoped>\n",
              "    .dataframe tbody tr th:only-of-type {\n",
              "        vertical-align: middle;\n",
              "    }\n",
              "\n",
              "    .dataframe tbody tr th {\n",
              "        vertical-align: top;\n",
              "    }\n",
              "\n",
              "    .dataframe thead th {\n",
              "        text-align: right;\n",
              "    }\n",
              "</style>\n",
              "<table border=\"1\" class=\"dataframe\">\n",
              "  <thead>\n",
              "    <tr style=\"text-align: right;\">\n",
              "      <th></th>\n",
              "      <th>message</th>\n",
              "      <th>label</th>\n",
              "    </tr>\n",
              "  </thead>\n",
              "  <tbody>\n",
              "    <tr>\n",
              "      <th>0</th>\n",
              "      <td>content length apple iss research center a us ...</td>\n",
              "      <td>0</td>\n",
              "    </tr>\n",
              "    <tr>\n",
              "      <th>1</th>\n",
              "      <td>lang classification grimes , joseph e . and ba...</td>\n",
              "      <td>0</td>\n",
              "    </tr>\n",
              "    <tr>\n",
              "      <th>2</th>\n",
              "      <td>i am posting this inquiry for sergei atamas sa...</td>\n",
              "      <td>0</td>\n",
              "    </tr>\n",
              "    <tr>\n",
              "      <th>3</th>\n",
              "      <td>a colleague and i are researching the differin...</td>\n",
              "      <td>0</td>\n",
              "    </tr>\n",
              "    <tr>\n",
              "      <th>4</th>\n",
              "      <td>earlier this morning i was on the phone with a...</td>\n",
              "      <td>0</td>\n",
              "    </tr>\n",
              "  </tbody>\n",
              "</table>\n",
              "</div>"
            ],
            "text/plain": [
              "                                             message  label\n",
              "0  content length apple iss research center a us ...      0\n",
              "1  lang classification grimes , joseph e . and ba...      0\n",
              "2  i am posting this inquiry for sergei atamas sa...      0\n",
              "3  a colleague and i are researching the differin...      0\n",
              "4  earlier this morning i was on the phone with a...      0"
            ]
          },
          "metadata": {
            "tags": []
          },
          "execution_count": 11
        }
      ]
    },
    {
      "cell_type": "markdown",
      "metadata": {
        "id": "2Jfz5YhBRPaH"
      },
      "source": [
        "### 3. EDA"
      ]
    },
    {
      "cell_type": "code",
      "metadata": {
        "trusted": true,
        "colab": {
          "base_uri": "https://localhost:8080/",
          "height": 267
        },
        "id": "T0xF5diQRPaH",
        "outputId": "37c9de09-255a-4b1e-976e-88e18999b794"
      },
      "source": [
        "data['label'].hist();"
      ],
      "execution_count": null,
      "outputs": [
        {
          "output_type": "display_data",
          "data": {
            "image/png": "[encoded data removed]",
            "text/plain": [
              "<Figure size 432x288 with 1 Axes>"
            ]
          },
          "metadata": {
            "tags": [],
            "needs_background": "light"
          }
        }
      ]
    },
    {
      "cell_type": "code",
      "metadata": {
        "trusted": true,
        "colab": {
          "base_uri": "https://localhost:8080/"
        },
        "id": "28-j9bQjRPaI",
        "outputId": "4b6bacd5-1df0-4326-aa23-dd3f1aa9511e"
      },
      "source": [
        "data['label'].value_counts()"
      ],
      "execution_count": null,
      "outputs": [
        {
          "output_type": "execute_result",
          "data": {
            "text/plain": [
              "0    2412\n",
              "1     481\n",
              "Name: label, dtype: int64"
            ]
          },
          "metadata": {
            "tags": []
          },
          "execution_count": 13
        }
      ]
    },
    {
      "cell_type": "code",
      "metadata": {
        "trusted": true,
        "colab": {
          "base_uri": "https://localhost:8080/"
        },
        "id": "WvWxDd5lRPaI",
        "outputId": "325ec175-f2b2-42cf-d52a-729f02568ce0"
      },
      "source": [
        "data['label'].value_counts()[0] / data['label'].value_counts().sum()"
      ],
      "execution_count": null,
      "outputs": [
        {
          "output_type": "execute_result",
          "data": {
            "text/plain": [
              "0.8337366055997235"
            ]
          },
          "metadata": {
            "tags": []
          },
          "execution_count": 14
        }
      ]
    },
    {
      "cell_type": "markdown",
      "metadata": {
        "id": "TMRadVC1RPaI"
      },
      "source": [
        "##### Let's balance data using upsampling"
      ]
    },
    {
      "cell_type": "code",
      "metadata": {
        "trusted": true,
        "colab": {
          "base_uri": "https://localhost:8080/",
          "height": 417
        },
        "id": "vmgLSUv5RPaJ",
        "outputId": "673620e3-1cc8-4f2d-e162-f9010ee233b8"
      },
      "source": [
        "from sklearn.utils import resample\n",
        "\n",
        "df_minority = data[data['label'] == 1].copy()\n",
        "df_minority_upsampled = resample(df_minority, replace = True, \n",
        "                                 n_samples = data['label'].value_counts()[0], \n",
        "                                 random_state = 11)\n",
        "df_minority_upsampled"
      ],
      "execution_count": null,
      "outputs": [
        {
          "output_type": "execute_result",
          "data": {
            "text/html": [
              "<div>\n",
              "<style scoped>\n",
              "    .dataframe tbody tr th:only-of-type {\n",
              "        vertical-align: middle;\n",
              "    }\n",
              "\n",
              "    .dataframe tbody tr th {\n",
              "        vertical-align: top;\n",
              "    }\n",
              "\n",
              "    .dataframe thead th {\n",
              "        text-align: right;\n",
              "    }\n",
              "</style>\n",
              "<table border=\"1\" class=\"dataframe\">\n",
              "  <thead>\n",
              "    <tr style=\"text-align: right;\">\n",
              "      <th></th>\n",
              "      <th>message</th>\n",
              "      <th>label</th>\n",
              "    </tr>\n",
              "  </thead>\n",
              "  <tbody>\n",
              "    <tr>\n",
              "      <th>2491</th>\n",
              "      <td>the largest selection of hot beautiful xxx liv...</td>\n",
              "      <td>1</td>\n",
              "    </tr>\n",
              "    <tr>\n",
              "      <th>1151</th>\n",
              "      <td>, e mail addresses for only , please call abo...</td>\n",
              "      <td>1</td>\n",
              "    </tr>\n",
              "    <tr>\n",
              "      <th>482</th>\n",
              "      <td>the latest in adult technology ! ! ! brand new...</td>\n",
              "      <td>1</td>\n",
              "    </tr>\n",
              "    <tr>\n",
              "      <th>510</th>\n",
              "      <td>do n t want to receive these e mails ? click t...</td>\n",
              "      <td>1</td>\n",
              "    </tr>\n",
              "    <tr>\n",
              "      <th>2027</th>\n",
              "      <td>pardon the intrusion . no offence is meant . i...</td>\n",
              "      <td>1</td>\n",
              "    </tr>\n",
              "    <tr>\n",
              "      <th>...</th>\n",
              "      <td>...</td>\n",
              "      <td>...</td>\n",
              "    </tr>\n",
              "    <tr>\n",
              "      <th>2083</th>\n",
              "      <td>the rumors are true ! it s true ! you can make...</td>\n",
              "      <td>1</td>\n",
              "    </tr>\n",
              "    <tr>\n",
              "      <th>2447</th>\n",
              "      <td>xxxxxxxxxxxxxxxx credit control x x xxxxxxxxxx...</td>\n",
              "      <td>1</td>\n",
              "    </tr>\n",
              "    <tr>\n",
              "      <th>2683</th>\n",
              "      <td>net survey invites you to take our adult enter...</td>\n",
              "      <td>1</td>\n",
              "    </tr>\n",
              "    <tr>\n",
              "      <th>278</th>\n",
              "      <td>this is not spam ! my name is matthew . i mak...</td>\n",
              "      <td>1</td>\n",
              "    </tr>\n",
              "    <tr>\n",
              "      <th>2292</th>\n",
              "      <td>authenticated sender is subject bull s eye tar...</td>\n",
              "      <td>1</td>\n",
              "    </tr>\n",
              "  </tbody>\n",
              "</table>\n",
              "<p>2412 rows × 2 columns</p>\n",
              "</div>"
            ],
            "text/plain": [
              "                                                message  label\n",
              "2491  the largest selection of hot beautiful xxx liv...      1\n",
              "1151   , e mail addresses for only , please call abo...      1\n",
              "482   the latest in adult technology ! ! ! brand new...      1\n",
              "510   do n t want to receive these e mails ? click t...      1\n",
              "2027  pardon the intrusion . no offence is meant . i...      1\n",
              "...                                                 ...    ...\n",
              "2083  the rumors are true ! it s true ! you can make...      1\n",
              "2447  xxxxxxxxxxxxxxxx credit control x x xxxxxxxxxx...      1\n",
              "2683  net survey invites you to take our adult enter...      1\n",
              "278    this is not spam ! my name is matthew . i mak...      1\n",
              "2292  authenticated sender is subject bull s eye tar...      1\n",
              "\n",
              "[2412 rows x 2 columns]"
            ]
          },
          "metadata": {
            "tags": []
          },
          "execution_count": 15
        }
      ]
    },
    {
      "cell_type": "code",
      "metadata": {
        "trusted": true,
        "colab": {
          "base_uri": "https://localhost:8080/",
          "height": 417
        },
        "id": "NBONUczFRPaK",
        "outputId": "8b8de4e3-dc5a-47d3-a3a7-6cc0a9adfecd"
      },
      "source": [
        "data = pd.concat([data[data['label'] == 0].copy(), df_minority_upsampled]).reset_index()\n",
        "data"
      ],
      "execution_count": null,
      "outputs": [
        {
          "output_type": "execute_result",
          "data": {
            "text/html": [
              "<div>\n",
              "<style scoped>\n",
              "    .dataframe tbody tr th:only-of-type {\n",
              "        vertical-align: middle;\n",
              "    }\n",
              "\n",
              "    .dataframe tbody tr th {\n",
              "        vertical-align: top;\n",
              "    }\n",
              "\n",
              "    .dataframe thead th {\n",
              "        text-align: right;\n",
              "    }\n",
              "</style>\n",
              "<table border=\"1\" class=\"dataframe\">\n",
              "  <thead>\n",
              "    <tr style=\"text-align: right;\">\n",
              "      <th></th>\n",
              "      <th>index</th>\n",
              "      <th>message</th>\n",
              "      <th>label</th>\n",
              "    </tr>\n",
              "  </thead>\n",
              "  <tbody>\n",
              "    <tr>\n",
              "      <th>0</th>\n",
              "      <td>0</td>\n",
              "      <td>content length apple iss research center a us ...</td>\n",
              "      <td>0</td>\n",
              "    </tr>\n",
              "    <tr>\n",
              "      <th>1</th>\n",
              "      <td>1</td>\n",
              "      <td>lang classification grimes , joseph e . and ba...</td>\n",
              "      <td>0</td>\n",
              "    </tr>\n",
              "    <tr>\n",
              "      <th>2</th>\n",
              "      <td>2</td>\n",
              "      <td>i am posting this inquiry for sergei atamas sa...</td>\n",
              "      <td>0</td>\n",
              "    </tr>\n",
              "    <tr>\n",
              "      <th>3</th>\n",
              "      <td>3</td>\n",
              "      <td>a colleague and i are researching the differin...</td>\n",
              "      <td>0</td>\n",
              "    </tr>\n",
              "    <tr>\n",
              "      <th>4</th>\n",
              "      <td>4</td>\n",
              "      <td>earlier this morning i was on the phone with a...</td>\n",
              "      <td>0</td>\n",
              "    </tr>\n",
              "    <tr>\n",
              "      <th>...</th>\n",
              "      <td>...</td>\n",
              "      <td>...</td>\n",
              "      <td>...</td>\n",
              "    </tr>\n",
              "    <tr>\n",
              "      <th>4819</th>\n",
              "      <td>2083</td>\n",
              "      <td>the rumors are true ! it s true ! you can make...</td>\n",
              "      <td>1</td>\n",
              "    </tr>\n",
              "    <tr>\n",
              "      <th>4820</th>\n",
              "      <td>2447</td>\n",
              "      <td>xxxxxxxxxxxxxxxx credit control x x xxxxxxxxxx...</td>\n",
              "      <td>1</td>\n",
              "    </tr>\n",
              "    <tr>\n",
              "      <th>4821</th>\n",
              "      <td>2683</td>\n",
              "      <td>net survey invites you to take our adult enter...</td>\n",
              "      <td>1</td>\n",
              "    </tr>\n",
              "    <tr>\n",
              "      <th>4822</th>\n",
              "      <td>278</td>\n",
              "      <td>this is not spam ! my name is matthew . i mak...</td>\n",
              "      <td>1</td>\n",
              "    </tr>\n",
              "    <tr>\n",
              "      <th>4823</th>\n",
              "      <td>2292</td>\n",
              "      <td>authenticated sender is subject bull s eye tar...</td>\n",
              "      <td>1</td>\n",
              "    </tr>\n",
              "  </tbody>\n",
              "</table>\n",
              "<p>4824 rows × 3 columns</p>\n",
              "</div>"
            ],
            "text/plain": [
              "      index                                            message  label\n",
              "0         0  content length apple iss research center a us ...      0\n",
              "1         1  lang classification grimes , joseph e . and ba...      0\n",
              "2         2  i am posting this inquiry for sergei atamas sa...      0\n",
              "3         3  a colleague and i are researching the differin...      0\n",
              "4         4  earlier this morning i was on the phone with a...      0\n",
              "...     ...                                                ...    ...\n",
              "4819   2083  the rumors are true ! it s true ! you can make...      1\n",
              "4820   2447  xxxxxxxxxxxxxxxx credit control x x xxxxxxxxxx...      1\n",
              "4821   2683  net survey invites you to take our adult enter...      1\n",
              "4822    278   this is not spam ! my name is matthew . i mak...      1\n",
              "4823   2292  authenticated sender is subject bull s eye tar...      1\n",
              "\n",
              "[4824 rows x 3 columns]"
            ]
          },
          "metadata": {
            "tags": []
          },
          "execution_count": 16
        }
      ]
    },
    {
      "cell_type": "code",
      "metadata": {
        "trusted": true,
        "colab": {
          "base_uri": "https://localhost:8080/"
        },
        "id": "1ISZMSIjRPaK",
        "outputId": "0eb5353a-442f-4a06-f7df-e5de9ea12479"
      },
      "source": [
        "data['label'].value_counts()"
      ],
      "execution_count": null,
      "outputs": [
        {
          "output_type": "execute_result",
          "data": {
            "text/plain": [
              "1    2412\n",
              "0    2412\n",
              "Name: label, dtype: int64"
            ]
          },
          "metadata": {
            "tags": []
          },
          "execution_count": 17
        }
      ]
    },
    {
      "cell_type": "markdown",
      "metadata": {
        "id": "TMTboUyNRPaL"
      },
      "source": [
        "### 4. Split data"
      ]
    },
    {
      "cell_type": "code",
      "metadata": {
        "trusted": true,
        "id": "MdaOf9KeRPaL"
      },
      "source": [
        "from sklearn.model_selection import train_test_split\n",
        "data_train, data_test = train_test_split(data, test_size = 0.2)\n",
        "data_train, data_val = train_test_split(data_train, test_size = 0.15)\n",
        "\n",
        "data_train = data_train.reset_index()\n",
        "data_val = data_val.reset_index()\n",
        "data_test = data_test.reset_index()"
      ],
      "execution_count": null,
      "outputs": []
    },
    {
      "cell_type": "code",
      "metadata": {
        "trusted": true,
        "colab": {
          "base_uri": "https://localhost:8080/"
        },
        "id": "hY88UmB2RPaM",
        "outputId": "f8ab55c0-ddd2-4475-b63f-cfd850e6d01d"
      },
      "source": [
        "data_train.shape, data_val.shape, data_test.shape"
      ],
      "execution_count": null,
      "outputs": [
        {
          "output_type": "execute_result",
          "data": {
            "text/plain": [
              "((3280, 4), (579, 4), (965, 4))"
            ]
          },
          "metadata": {
            "tags": []
          },
          "execution_count": 19
        }
      ]
    },
    {
      "cell_type": "markdown",
      "metadata": {
        "id": "AWPP5NAMRPaM"
      },
      "source": [
        "### 5. Creating dataset"
      ]
    },
    {
      "cell_type": "code",
      "metadata": {
        "trusted": true,
        "id": "25NM9XMtRPaM",
        "colab": {
          "base_uri": "https://localhost:8080/"
        },
        "outputId": "2c9961c5-f4aa-4bf8-e2c5-71e8cf9599ea"
      },
      "source": [
        "from torchtext.vocab import GloVe\n",
        "embedding_glove = GloVe(name = '6B', dim = 100)\n",
        "\n",
        "embedding_glove.stoi['<PAD>'] = len(embedding_glove.stoi)\n",
        "embedding_glove.itos.append('<PAD>')\n",
        "\n",
        "embedding_glove.stoi['<UNK>'] = len(embedding_glove.stoi)\n",
        "embedding_glove.itos.append('<UNK>')\n",
        "\n",
        "embedding_glove.vectors = torch.cat([embedding_glove.vectors, torch.zeros((2, embedding_glove.vectors[0].shape[0]))])"
      ],
      "execution_count": null,
      "outputs": [
        {
          "output_type": "stream",
          "text": [
            ".vector_cache/glove.6B.zip: 862MB [02:56, 4.89MB/s]                           \n",
            "100%|█████████▉| 399774/400000 [00:14<00:00, 27017.62it/s]"
          ],
          "name": "stderr"
        }
      ]
    },
    {
      "cell_type": "code",
      "metadata": {
        "trusted": true,
        "colab": {
          "base_uri": "https://localhost:8080/"
        },
        "id": "5Oy0_GbVRPaN",
        "outputId": "1390c129-89f6-492e-8ed6-21f9a647dbce"
      },
      "source": [
        "class Config:\n",
        "    sent_len = data_train['message'].str.split().str.len().max()\n",
        "    batch_size = 128\n",
        "    hidden_dim = 16\n",
        "    gru_n_layers = 4\n",
        "\n",
        "class SentenceDataset(Dataset):\n",
        "    def __init__(self, data, vocab):\n",
        "        super().__init__()\n",
        "        self.X = data['message']\n",
        "        self.y = data['label']\n",
        "        self.vocab = vocab\n",
        "        self.sent_len = Config.sent_len\n",
        "\n",
        "    def vectorize(self, sent):\n",
        "\n",
        "        sent = sent.split()\n",
        "        sent_t = []\n",
        "        for word in sent:\n",
        "            try:\n",
        "                sent_t.append(self.vocab.stoi[word])\n",
        "            except:\n",
        "                sent_t.append(self.vocab.stoi['<UNK>'])\n",
        "\n",
        "        for _ in range(self.sent_len - len(sent)):\n",
        "            sent_t.append(self.vocab.stoi['<PAD>'])\n",
        "\n",
        "        return torch.tensor(sent_t)\n",
        "  \n",
        "    def __len__(self):\n",
        "        return len(self.X)\n",
        "\n",
        "    def __getitem__(self, idx):\n",
        "        return self.vectorize(self.X[idx])[:self.sent_len], self.y[idx]\n",
        "    \n",
        "    \n",
        "train_dataset = SentenceDataset(data_train, embedding_glove)\n",
        "val_dataset = SentenceDataset(data_val, embedding_glove)\n",
        "test_dataset = SentenceDataset(data_test, embedding_glove)\n",
        "train_dataset[120]"
      ],
      "execution_count": null,
      "outputs": [
        {
          "output_type": "execute_result",
          "data": {
            "text/plain": [
              "(tensor([    59,      7,    229,  ..., 400000, 400000, 400000]), 0)"
            ]
          },
          "metadata": {
            "tags": []
          },
          "execution_count": 21
        }
      ]
    },
    {
      "cell_type": "code",
      "metadata": {
        "trusted": true,
        "colab": {
          "base_uri": "https://localhost:8080/"
        },
        "id": "tQNW35p1RPaO",
        "outputId": "28764ab1-792d-4a96-d2c5-91fa25712cec"
      },
      "source": [
        "train_dataset[120][0].shape, test_dataset[100][0].shape"
      ],
      "execution_count": null,
      "outputs": [
        {
          "output_type": "execute_result",
          "data": {
            "text/plain": [
              "(torch.Size([5249]), torch.Size([5249]))"
            ]
          },
          "metadata": {
            "tags": []
          },
          "execution_count": 22
        }
      ]
    },
    {
      "cell_type": "code",
      "metadata": {
        "trusted": true,
        "id": "R9zAYDJnRPaO"
      },
      "source": [
        "train_loader = DataLoader(train_dataset, batch_size = Config.batch_size)\n",
        "val_loader = DataLoader(val_dataset, batch_size = Config.batch_size)\n",
        "test_loader = DataLoader(test_dataset, batch_size = Config.batch_size)"
      ],
      "execution_count": null,
      "outputs": []
    },
    {
      "cell_type": "code",
      "metadata": {
        "trusted": true,
        "colab": {
          "base_uri": "https://localhost:8080/"
        },
        "id": "jVWcjOVdRPaP",
        "outputId": "67f75c32-a859-40a6-9130-a5453ff61e7b"
      },
      "source": [
        "next(iter(train_loader))"
      ],
      "execution_count": null,
      "outputs": [
        {
          "output_type": "execute_result",
          "data": {
            "text/plain": [
              "[tensor([[   662,     84,    489,  ..., 400000, 400000, 400000],\n",
              "         [   192,   1443,      2,  ..., 400000, 400000, 400000],\n",
              "         [    58,   2089,      5,  ..., 400000, 400000, 400000],\n",
              "         ...,\n",
              "         [  5995, 400001,   9838,  ..., 400000, 400000, 400000],\n",
              "         [ 68420,      3,    711,  ..., 400000, 400000, 400000],\n",
              "         [    37,     14,     36,  ..., 400000, 400000, 400000]]),\n",
              " tensor([1, 0, 0, 1, 0, 1, 1, 0, 0, 0, 1, 0, 1, 1, 1, 0, 1, 0, 1, 1, 0, 1, 0, 0,\n",
              "         1, 1, 1, 0, 0, 1, 0, 1, 1, 1, 0, 1, 0, 1, 0, 0, 0, 1, 1, 1, 1, 1, 0, 0,\n",
              "         0, 0, 0, 1, 1, 1, 0, 1, 0, 1, 1, 0, 0, 0, 1, 0, 1, 1, 1, 0, 1, 0, 0, 0,\n",
              "         1, 1, 0, 0, 1, 1, 1, 0, 1, 0, 0, 0, 0, 1, 0, 0, 1, 1, 0, 1, 0, 0, 0, 1,\n",
              "         0, 0, 1, 1, 1, 1, 1, 0, 0, 1, 1, 0, 0, 1, 1, 0, 0, 1, 1, 1, 0, 0, 1, 0,\n",
              "         0, 0, 0, 1, 1, 0, 0, 1])]"
            ]
          },
          "metadata": {
            "tags": []
          },
          "execution_count": 24
        }
      ]
    },
    {
      "cell_type": "markdown",
      "metadata": {
        "id": "a3Aodwb7RPaP"
      },
      "source": [
        "### 6. Models"
      ]
    },
    {
      "cell_type": "code",
      "metadata": {
        "trusted": true,
        "colab": {
          "base_uri": "https://localhost:8080/"
        },
        "id": "YyphQxFnRPaQ",
        "outputId": "bb8076a3-edac-4fc4-f078-72c41dba0861"
      },
      "source": [
        "device = torch.device('cuda:0' if torch.cuda.is_available() else 'cpu')\n",
        "device"
      ],
      "execution_count": null,
      "outputs": [
        {
          "output_type": "execute_result",
          "data": {
            "text/plain": [
              "device(type='cuda', index=0)"
            ]
          },
          "metadata": {
            "tags": []
          },
          "execution_count": 25
        }
      ]
    },
    {
      "cell_type": "code",
      "metadata": {
        "trusted": true,
        "id": "80Eg9C75RPaQ"
      },
      "source": [
        "def train_model(model, train_loader, val_loader, loss, optimizer, num_epochs, scheduler = None):    \n",
        "    loss_history = []\n",
        "    train_history = []\n",
        "    val_history = []\n",
        "    for epoch in range(num_epochs):\n",
        "        model.train() # Enter train mode\n",
        "        \n",
        "        loss_accum = 0\n",
        "        correct_samples = 0\n",
        "        total_samples = 0\n",
        "\n",
        "        for i_step, (x, y) in enumerate(train_loader):\n",
        "                \n",
        "            optimizer.zero_grad()\n",
        "            x_gpu = x.to(device)\n",
        "            y_gpu = y.to(device)\n",
        "            prediction = model(x_gpu)\n",
        "            loss_value = loss(prediction, y_gpu)\n",
        "            loss_value.backward()\n",
        "            optimizer.step()\n",
        "\n",
        "            _, indices = torch.max(prediction, 1)\n",
        "            correct_samples += torch.sum(indices == y_gpu)\n",
        "            total_samples += y.shape[0]\n",
        "            \n",
        "            loss_accum += loss_value\n",
        "\n",
        "        ave_loss = loss_accum / i_step\n",
        "        if scheduler:\n",
        "            scheduler.step()\n",
        "        train_accuracy = float(correct_samples) / total_samples\n",
        "        val_accuracy = compute_accuracy(model, val_loader)\n",
        "        \n",
        "        loss_history.append(float(ave_loss))\n",
        "        train_history.append(train_accuracy)\n",
        "        val_history.append(val_accuracy)\n",
        "        \n",
        "        # if i_step % 10 == 1:\n",
        "        print(\"Epoch: %i, Average loss: %f, Train accuracy: %f, Val accuracy: %f\" % (epoch, ave_loss, train_accuracy, val_accuracy))\n",
        "        \n",
        "    return loss_history, train_history, val_history\n",
        "        \n",
        "def compute_accuracy(model, loader):\n",
        "    \"\"\"\n",
        "    Computes accuracy on the dataset wrapped in a loader\n",
        "    \n",
        "    Returns: accuracy as a float value between 0 and 1\n",
        "    \"\"\"\n",
        "    model.eval() # Evaluation mode\n",
        "    right = 0\n",
        "    total = 0\n",
        "    for batch in loader:\n",
        "        x, y = batch\n",
        "        x_gpu = x.to(device)\n",
        "        y_gpu = y.to(device)\n",
        "        preds = model(x_gpu)\n",
        "        preds = torch.argmax(preds, axis = 1)\n",
        "        right += torch.sum(preds == y_gpu)\n",
        "        total += y_gpu.shape[0]\n",
        "    return float(right) / total"
      ],
      "execution_count": null,
      "outputs": []
    },
    {
      "cell_type": "code",
      "metadata": {
        "trusted": true,
        "id": "rvADnp8GRPaR"
      },
      "source": [
        "import sklearn.metrics as metrics\n",
        "\n",
        "def evaluate_model(model, loader):\n",
        "    \"\"\"\n",
        "    Computes predictions and ground truth labels for the indices of the dataset\n",
        "    \n",
        "    Returns: \n",
        "    predictions: np array of booleans of model predictions\n",
        "    grount_truth: np array of boolean of actual labels of the dataset\n",
        "    \"\"\"\n",
        "    model.eval() # Evaluation mode\n",
        "    \n",
        "    # loader = torch.utils.data.DataLoader(dataset, batch_size = Config.batch_size)\n",
        "    ground_truth = np.array([])\n",
        "    predictions = np.array([])\n",
        "\n",
        "    for batch in loader:\n",
        "        x, y = batch\n",
        "        x_gpu = x.to(device)\n",
        "        y_gpu = y.to(device)\n",
        "        ground_truth = np.append(ground_truth, y)\n",
        "        prediction = model(x_gpu)\n",
        "        _, prediction = torch.max(prediction, axis = 1)    ## torch.max() returns (values, indices)\n",
        "        predictions = np.append(predictions, prediction.cpu())\n",
        "    return predictions, ground_truth\n",
        "\n",
        "def binary_classification_metrics(model, loader):\n",
        "    prediction, ground_truth = evaluate_model(model, loader)\n",
        "    precision = metrics.precision_score(prediction, ground_truth)\n",
        "    recall = metrics.recall_score(prediction, ground_truth)\n",
        "    f1 = (2 * precision * recall) / (precision + recall)\n",
        "    acc = compute_accuracy(model, test_loader)\n",
        "    return precision, recall, f1, acc"
      ],
      "execution_count": null,
      "outputs": []
    },
    {
      "cell_type": "markdown",
      "metadata": {
        "id": "yaYup9eGRPaT"
      },
      "source": [
        "##### Vanilla Net"
      ]
    },
    {
      "cell_type": "code",
      "metadata": {
        "trusted": true,
        "id": "DyW7bdj5RPaU"
      },
      "source": [
        "class VanillaNet(nn.Module):\n",
        "    def __init__(self, pretrained_embeddings = True):\n",
        "        super().__init__()\n",
        "        self.embedding = nn.Embedding(len(embedding_glove), 100)\n",
        "        if pretrained_embeddings:\n",
        "            self.embedding = self.embedding.from_pretrained(embedding_glove.vectors)\n",
        "        \n",
        "        self.net = nn.Sequential(\n",
        "            self.embedding,\n",
        "            nn.Flatten(),\n",
        "            \n",
        "            nn.Linear(Config.sent_len*100, 1024),\n",
        "            nn.ReLU(inplace = True),\n",
        "            nn.Linear(1024, 512),\n",
        "            nn.ReLU(inplace = True),\n",
        "            nn.Linear(512, 128),\n",
        "            nn.ReLU(inplace = True),\n",
        "            nn.Linear(128, 2),\n",
        "            nn.Sigmoid()\n",
        "        )\n",
        "    \n",
        "    def forward(self, input):\n",
        "        input = self.net(input)\n",
        "        return input"
      ],
      "execution_count": null,
      "outputs": []
    },
    {
      "cell_type": "code",
      "metadata": {
        "trusted": true,
        "colab": {
          "base_uri": "https://localhost:8080/"
        },
        "id": "BYS529G6RPaV",
        "outputId": "979399c9-1c5d-4926-9c31-ec8d6a2cd99b"
      },
      "source": [
        "## random embeddings\n",
        "\n",
        "import torch.optim as optim\n",
        "\n",
        "torch.cuda.empty_cache()\n",
        "\n",
        "vanilla_net_random_embeddings = VanillaNet(pretrained_embeddings = False)\n",
        "vanilla_net_random_embeddings.to(device)\n",
        "parameters = vanilla_net_random_embeddings.parameters()\n",
        "\n",
        "EPOCHS = 10\n",
        "\n",
        "loss = nn.CrossEntropyLoss()\n",
        "optimizer = optim.Adam(parameters, 1e-4)\n",
        "scheduler = optim.lr_scheduler.CosineAnnealingLR(optimizer, T_max = 25)\n",
        "loss_history, train_history, val_history = train_model(vanilla_net_random_embeddings, train_loader, val_loader,\\\n",
        "                                                       loss, optimizer, EPOCHS, scheduler)"
      ],
      "execution_count": null,
      "outputs": [
        {
          "output_type": "stream",
          "text": [
            "\r 99%|█████████▉| 397458/400000 [00:29<00:00, 27551.44it/s]"
          ],
          "name": "stderr"
        },
        {
          "output_type": "stream",
          "text": [
            "Epoch: 0, Average loss: 0.730964, Train accuracy: 0.529268, Val accuracy: 0.499136\n",
            "Epoch: 1, Average loss: 0.716682, Train accuracy: 0.526524, Val accuracy: 0.540587\n",
            "Epoch: 2, Average loss: 0.850915, Train accuracy: 0.488720, Val accuracy: 0.540587\n",
            "Epoch: 3, Average loss: 0.858285, Train accuracy: 0.489024, Val accuracy: 0.540587\n",
            "Epoch: 4, Average loss: 0.858285, Train accuracy: 0.489024, Val accuracy: 0.540587\n",
            "Epoch: 5, Average loss: 0.858285, Train accuracy: 0.489024, Val accuracy: 0.540587\n",
            "Epoch: 6, Average loss: 0.858285, Train accuracy: 0.489024, Val accuracy: 0.540587\n",
            "Epoch: 7, Average loss: 0.858285, Train accuracy: 0.489024, Val accuracy: 0.540587\n",
            "Epoch: 8, Average loss: 0.858285, Train accuracy: 0.489024, Val accuracy: 0.540587\n",
            "Epoch: 9, Average loss: 0.858285, Train accuracy: 0.489024, Val accuracy: 0.540587\n"
          ],
          "name": "stdout"
        }
      ]
    },
    {
      "cell_type": "code",
      "metadata": {
        "colab": {
          "base_uri": "https://localhost:8080/",
          "height": 279
        },
        "id": "i9udHDLqJaMB",
        "outputId": "56621565-a4b9-4a46-fec6-5e500dd415ad"
      },
      "source": [
        "ax = sns.lineplot(x = [i for i in range(EPOCHS)], y = train_history, label = 'Train accuracy');\n",
        "ax = sns.lineplot(x = [i for i in range(EPOCHS)], y = val_history, label = 'Val accuracy');\n",
        "ax.set(xlabel = 'Epoch', ylabel = 'Accuracy');"
      ],
      "execution_count": null,
      "outputs": [
        {
          "output_type": "display_data",
          "data": {
            "image/png": "[encoded data removed]",
            "text/plain": [
              "<Figure size 432x288 with 1 Axes>"
            ]
          },
          "metadata": {
            "tags": [],
            "needs_background": "light"
          }
        }
      ]
    },
    {
      "cell_type": "code",
      "metadata": {
        "colab": {
          "base_uri": "https://localhost:8080/",
          "height": 279
        },
        "id": "KhvyHuS1JnH_",
        "outputId": "f5b7285c-7f32-4601-9ebe-2f3cab411734"
      },
      "source": [
        "ax = sns.lineplot(x = [i for i in range(EPOCHS)], y = loss_history, label = 'Loss');\n",
        "ax.set(xlabel = 'Epoch', ylabel = 'Loss');"
      ],
      "execution_count": null,
      "outputs": [
        {
          "output_type": "display_data",
          "data": {
            "image/png": "[encoded data removed]",
            "text/plain": [
              "<Figure size 432x288 with 1 Axes>"
            ]
          },
          "metadata": {
            "tags": [],
            "needs_background": "light"
          }
        }
      ]
    },
    {
      "cell_type": "code",
      "metadata": {
        "trusted": true,
        "colab": {
          "base_uri": "https://localhost:8080/"
        },
        "id": "KTolh8eIRPaV",
        "outputId": "6c6fb67e-82ac-4274-a435-94cd7774c443"
      },
      "source": [
        "precision, recall, f1, accuracy = binary_classification_metrics(vanilla_net_random_embeddings, test_loader)\n",
        "print(f'Accuracy = {np.round(accuracy, 2)}')\n",
        "print(f'Precision = {np.round(precision, 2)}')\n",
        "print(f'Recall = {np.round(recall, 2)}')\n",
        "print(f'F1 = {np.round(f1, 2)}')"
      ],
      "execution_count": null,
      "outputs": [
        {
          "output_type": "stream",
          "text": [
            "Accuracy = 0.51\n",
            "Precision = 1.0\n",
            "Recall = 0.51\n",
            "F1 = 0.68\n"
          ],
          "name": "stdout"
        }
      ]
    },
    {
      "cell_type": "code",
      "metadata": {
        "trusted": true,
        "colab": {
          "base_uri": "https://localhost:8080/"
        },
        "id": "nh4YNbvnRPaW",
        "outputId": "26e39568-0afd-4a43-dfcc-0bdf058d970e"
      },
      "source": [
        "## pretrained embeddings\n",
        "\n",
        "import torch.optim as optim\n",
        "\n",
        "torch.cuda.empty_cache()\n",
        "\n",
        "vanilla_net = VanillaNet(pretrained_embeddings = True)\n",
        "vanilla_net.to(device)\n",
        "parameters = vanilla_net.parameters()\n",
        "\n",
        "EPOCHS = 10\n",
        "\n",
        "loss = nn.CrossEntropyLoss()\n",
        "optimizer = optim.Adam(parameters, 1e-4)\n",
        "scheduler = optim.lr_scheduler.CosineAnnealingLR(optimizer, T_max = 25)\n",
        "loss_history, train_history, val_history = train_model(vanilla_net, train_loader, val_loader,\\\n",
        "                                                       loss, optimizer, EPOCHS, scheduler)"
      ],
      "execution_count": null,
      "outputs": [
        {
          "output_type": "stream",
          "text": [
            "Epoch: 0, Average loss: 0.517940, Train accuracy: 0.858537, Val accuracy: 0.975820\n",
            "Epoch: 1, Average loss: 0.354439, Train accuracy: 0.986280, Val accuracy: 0.981002\n",
            "Epoch: 2, Average loss: 0.334448, Train accuracy: 0.995427, Val accuracy: 0.974093\n",
            "Epoch: 3, Average loss: 0.336380, Train accuracy: 0.992073, Val accuracy: 0.982729\n",
            "Epoch: 4, Average loss: 0.331235, Train accuracy: 0.995732, Val accuracy: 0.996546\n",
            "Epoch: 5, Average loss: 0.327598, Train accuracy: 0.999390, Val accuracy: 0.993092\n",
            "Epoch: 6, Average loss: 0.327378, Train accuracy: 0.999085, Val accuracy: 0.993092\n",
            "Epoch: 7, Average loss: 0.327212, Train accuracy: 0.999085, Val accuracy: 0.993092\n",
            "Epoch: 8, Average loss: 0.327100, Train accuracy: 0.999085, Val accuracy: 0.994819\n",
            "Epoch: 9, Average loss: 0.326717, Train accuracy: 0.999390, Val accuracy: 0.994819\n"
          ],
          "name": "stdout"
        }
      ]
    },
    {
      "cell_type": "code",
      "metadata": {
        "colab": {
          "base_uri": "https://localhost:8080/",
          "height": 279
        },
        "id": "Q1PNtNpNJcXY",
        "outputId": "00ae777b-3981-4d0e-cdbb-e1a02c7976de"
      },
      "source": [
        "ax = sns.lineplot(x = [i for i in range(EPOCHS)], y = train_history, label = 'Train accuracy');\n",
        "ax = sns.lineplot(x = [i for i in range(EPOCHS)], y = val_history, label = 'Val accuracy');\n",
        "ax.set(xlabel = 'Epoch', ylabel = 'Accuracy');"
      ],
      "execution_count": null,
      "outputs": [
        {
          "output_type": "display_data",
          "data": {
            "image/png": "[encoded data removed]",
            "text/plain": [
              "<Figure size 432x288 with 1 Axes>"
            ]
          },
          "metadata": {
            "tags": [],
            "needs_background": "light"
          }
        }
      ]
    },
    {
      "cell_type": "code",
      "metadata": {
        "colab": {
          "base_uri": "https://localhost:8080/",
          "height": 281
        },
        "id": "FucprdY1Jpkz",
        "outputId": "32f8fdaa-b8e3-4563-a765-d691d9a7ea81"
      },
      "source": [
        "ax = sns.lineplot(x = [i for i in range(EPOCHS)], y = loss_history, label = 'Loss');\n",
        "ax.set(xlabel = 'Epoch', ylabel = 'Loss');"
      ],
      "execution_count": null,
      "outputs": [
        {
          "output_type": "display_data",
          "data": {
            "image/png": "[encoded data removed]",
            "text/plain": [
              "<Figure size 432x288 with 1 Axes>"
            ]
          },
          "metadata": {
            "tags": [],
            "needs_background": "light"
          }
        }
      ]
    },
    {
      "cell_type": "code",
      "metadata": {
        "trusted": true,
        "colab": {
          "base_uri": "https://localhost:8080/"
        },
        "id": "B3ucdobnRPaX",
        "outputId": "795f4046-d49e-4446-8466-9c2a699769e2"
      },
      "source": [
        "## check on test dataset\n",
        "\n",
        "precision, recall, f1, accuracy = binary_classification_metrics(vanilla_net, test_loader)\n",
        "print(f'Accuracy = {np.round(accuracy, 2)}')\n",
        "print(f'Precision = {np.round(precision, 2)}')\n",
        "print(f'Recall = {np.round(recall, 2)}')\n",
        "print(f'F1 = {np.round(f1, 2)}')"
      ],
      "execution_count": null,
      "outputs": [
        {
          "output_type": "stream",
          "text": [
            "Accuracy = 0.99\n",
            "Precision = 1.0\n",
            "Recall = 0.99\n",
            "F1 = 0.99\n"
          ],
          "name": "stdout"
        }
      ]
    },
    {
      "cell_type": "code",
      "metadata": {
        "trusted": true,
        "id": "TK7irfTNRPaY"
      },
      "source": [
        "# torch.save(vanilla_net.state_dict(), 'vanilla-net_1e-4_10-EPOCHS')"
      ],
      "execution_count": null,
      "outputs": []
    },
    {
      "cell_type": "code",
      "metadata": {
        "trusted": true,
        "id": "JnlzLjtKRPaY"
      },
      "source": [
        "torch.cuda.empty_cache()"
      ],
      "execution_count": null,
      "outputs": []
    },
    {
      "cell_type": "markdown",
      "metadata": {
        "id": "k6mqz2LxRPaZ"
      },
      "source": [
        "##### Convolutional Net"
      ]
    },
    {
      "cell_type": "code",
      "metadata": {
        "trusted": true,
        "id": "JfOYhwtMRPaZ"
      },
      "source": [
        "class ConvNet(nn.Module):\n",
        "    def __init__(self, pretrained_embeddings = True):\n",
        "        super().__init__()\n",
        "        self.embedding = nn.Embedding(len(embedding_glove), 100)  ## Config.sent_lenx100\n",
        "        if pretrained_embeddings:\n",
        "            self.embedding = self.embedding.from_pretrained(embedding_glove.vectors)\n",
        "        \n",
        "        self.layer1 = nn.Sequential(\n",
        "            nn.Conv1d(Config.sent_len, 100, 11), ## 100x90\n",
        "            nn.BatchNorm1d(100),\n",
        "            nn.ReLU(inplace = True),\n",
        "            nn.MaxPool1d(2)   ## 100x45\n",
        "        )\n",
        "        \n",
        "        self.layer2 = nn.Sequential(\n",
        "            nn.Conv1d(100, 500, 10), ## 500x36\n",
        "            nn.BatchNorm1d(500),\n",
        "            nn.ReLU(inplace = True),\n",
        "            nn.MaxPool1d(2)   ## 500x18\n",
        "        )\n",
        "        \n",
        "        self.layer3 = nn.Sequential(\n",
        "            nn.Conv1d(500, 800, 5), ## 800x14\n",
        "            nn.BatchNorm1d(800),\n",
        "            nn.ReLU(inplace = True),\n",
        "            nn.MaxPool1d(2)   ## 800x7\n",
        "        )\n",
        "        \n",
        "        self.layer4 = nn.Sequential(\n",
        "            nn.Flatten(),\n",
        "            nn.Linear(800*7, 512),\n",
        "            nn.ReLU(inplace = True),\n",
        "            \n",
        "            nn.Linear(512, 128),\n",
        "            nn.ReLU(inplace = True),\n",
        "            \n",
        "            nn.Linear(128, 2),\n",
        "            nn.Sigmoid()\n",
        "        )\n",
        "    \n",
        "    def forward(self, input):\n",
        "        input = self.embedding(input)\n",
        "        input = self.layer1(input)\n",
        "        input = self.layer2(input)\n",
        "        input = self.layer3(input)\n",
        "        input = self.layer4(input)\n",
        "        return input"
      ],
      "execution_count": null,
      "outputs": []
    },
    {
      "cell_type": "code",
      "metadata": {
        "trusted": true,
        "colab": {
          "base_uri": "https://localhost:8080/"
        },
        "id": "sobCzj_dRPaa",
        "outputId": "6c1a5157-11e4-4659-82f6-11bb2f569801"
      },
      "source": [
        "## random embeddings\n",
        "\n",
        "import torch.optim as optim\n",
        "\n",
        "torch.cuda.empty_cache()\n",
        "\n",
        "conv_net_random_embeddings = ConvNet(pretrained_embeddings = False)\n",
        "conv_net_random_embeddings.to(device)\n",
        "parameters = conv_net_random_embeddings.parameters()\n",
        "\n",
        "EPOCHS = 10\n",
        "\n",
        "loss = nn.CrossEntropyLoss()\n",
        "optimizer = optim.Adam(parameters, 1e-4)\n",
        "scheduler = optim.lr_scheduler.CosineAnnealingLR(optimizer, T_max = 25)\n",
        "loss_history, train_history, val_history = train_model(conv_net_random_embeddings, train_loader, val_loader,\\\n",
        "                                                       loss, optimizer, EPOCHS, scheduler)"
      ],
      "execution_count": null,
      "outputs": [
        {
          "output_type": "stream",
          "text": [
            "Epoch: 0, Average loss: 0.712946, Train accuracy: 0.541768, Val accuracy: 0.533679\n",
            "Epoch: 1, Average loss: 0.676735, Train accuracy: 0.634756, Val accuracy: 0.670121\n",
            "Epoch: 2, Average loss: 0.535989, Train accuracy: 0.807927, Val accuracy: 0.873921\n",
            "Epoch: 3, Average loss: 0.440548, Train accuracy: 0.893293, Val accuracy: 0.614853\n",
            "Epoch: 4, Average loss: 0.396786, Train accuracy: 0.933841, Val accuracy: 0.792746\n",
            "Epoch: 5, Average loss: 0.362319, Train accuracy: 0.967683, Val accuracy: 0.772021\n",
            "Epoch: 6, Average loss: 0.355866, Train accuracy: 0.973780, Val accuracy: 0.758204\n",
            "Epoch: 7, Average loss: 0.351512, Train accuracy: 0.978963, Val accuracy: 0.715026\n",
            "Epoch: 8, Average loss: 0.352463, Train accuracy: 0.979573, Val accuracy: 0.754750\n",
            "Epoch: 9, Average loss: 0.342342, Train accuracy: 0.987805, Val accuracy: 0.939551\n"
          ],
          "name": "stdout"
        }
      ]
    },
    {
      "cell_type": "code",
      "metadata": {
        "colab": {
          "base_uri": "https://localhost:8080/",
          "height": 279
        },
        "id": "3uN24JofJd74",
        "outputId": "5ad2bdf7-bc46-411e-efd1-df08f20129f2"
      },
      "source": [
        "ax = sns.lineplot(x = [i for i in range(EPOCHS)], y = train_history, label = 'Train accuracy');\n",
        "ax = sns.lineplot(x = [i for i in range(EPOCHS)], y = val_history, label = 'Val accuracy');\n",
        "ax.set(xlabel = 'Epoch', ylabel = 'Accuracy');"
      ],
      "execution_count": null,
      "outputs": [
        {
          "output_type": "display_data",
          "data": {
            "image/png": "[encoded data removed]",
            "text/plain": [
              "<Figure size 432x288 with 1 Axes>"
            ]
          },
          "metadata": {
            "tags": [],
            "needs_background": "light"
          }
        }
      ]
    },
    {
      "cell_type": "code",
      "metadata": {
        "colab": {
          "base_uri": "https://localhost:8080/",
          "height": 279
        },
        "id": "Zi2-E9zHJt5K",
        "outputId": "58d4ae9c-4636-4312-9137-bf52ee08d972"
      },
      "source": [
        "ax = sns.lineplot(x = [i for i in range(EPOCHS)], y = loss_history, label = 'Loss');\n",
        "ax.set(xlabel = 'Epoch', ylabel = 'Loss');"
      ],
      "execution_count": null,
      "outputs": [
        {
          "output_type": "display_data",
          "data": {
            "image/png": "[encoded data removed]",
            "text/plain": [
              "<Figure size 432x288 with 1 Axes>"
            ]
          },
          "metadata": {
            "tags": [],
            "needs_background": "light"
          }
        }
      ]
    },
    {
      "cell_type": "code",
      "metadata": {
        "trusted": true,
        "colab": {
          "base_uri": "https://localhost:8080/"
        },
        "id": "fsQ1NnIWRPaa",
        "outputId": "1496c1cf-aafd-47f4-a031-b5a94bbaaac5"
      },
      "source": [
        "## check on test dataset\n",
        "\n",
        "precision, recall, f1, accuracy = binary_classification_metrics(conv_net_random_embeddings, test_loader)\n",
        "print(f'Accuracy = {np.round(accuracy, 2)}')\n",
        "print(f'Precision = {np.round(precision, 2)}')\n",
        "print(f'Recall = {np.round(recall, 2)}')\n",
        "print(f'F1 = {np.round(f1, 2)}')"
      ],
      "execution_count": null,
      "outputs": [
        {
          "output_type": "stream",
          "text": [
            "Accuracy = 0.95\n",
            "Precision = 0.99\n",
            "Recall = 0.91\n",
            "F1 = 0.95\n"
          ],
          "name": "stdout"
        }
      ]
    },
    {
      "cell_type": "code",
      "metadata": {
        "trusted": true,
        "colab": {
          "base_uri": "https://localhost:8080/"
        },
        "id": "ZWlTwTG0RPab",
        "outputId": "3ad04b0b-ce11-4c93-e9bf-2488f7e7a2a8"
      },
      "source": [
        "## pretrained embeddings\n",
        "\n",
        "import torch.optim as optim\n",
        "\n",
        "torch.cuda.empty_cache()\n",
        "\n",
        "conv_net = ConvNet(pretrained_embeddings = True)\n",
        "conv_net.to(device)\n",
        "parameters = conv_net.parameters()\n",
        "\n",
        "EPOCHS = 10\n",
        "\n",
        "loss = nn.CrossEntropyLoss()\n",
        "optimizer = optim.Adam(parameters, 1e-4)\n",
        "scheduler = optim.lr_scheduler.CosineAnnealingLR(optimizer, T_max = 25)\n",
        "loss_history, train_history, val_history = train_model(conv_net, train_loader, val_loader,\\\n",
        "                                                       loss, optimizer, EPOCHS, scheduler)"
      ],
      "execution_count": null,
      "outputs": [
        {
          "output_type": "stream",
          "text": [
            "Epoch: 0, Average loss: 0.614269, Train accuracy: 0.721646, Val accuracy: 0.894646\n",
            "Epoch: 1, Average loss: 0.376782, Train accuracy: 0.962500, Val accuracy: 0.972366\n",
            "Epoch: 2, Average loss: 0.341557, Train accuracy: 0.988110, Val accuracy: 0.984456\n",
            "Epoch: 3, Average loss: 0.333173, Train accuracy: 0.996341, Val accuracy: 0.982729\n",
            "Epoch: 4, Average loss: 0.329714, Train accuracy: 0.997256, Val accuracy: 0.993092\n",
            "Epoch: 5, Average loss: 0.326587, Train accuracy: 0.999390, Val accuracy: 0.991364\n",
            "Epoch: 6, Average loss: 0.326162, Train accuracy: 0.999695, Val accuracy: 0.993092\n",
            "Epoch: 7, Average loss: 0.325967, Train accuracy: 1.000000, Val accuracy: 0.993092\n",
            "Epoch: 8, Average loss: 0.325903, Train accuracy: 1.000000, Val accuracy: 0.993092\n",
            "Epoch: 9, Average loss: 0.325878, Train accuracy: 1.000000, Val accuracy: 0.993092\n"
          ],
          "name": "stdout"
        }
      ]
    },
    {
      "cell_type": "code",
      "metadata": {
        "colab": {
          "base_uri": "https://localhost:8080/",
          "height": 279
        },
        "id": "El7PndE_JfAq",
        "outputId": "cb855671-c359-4cf2-91c8-67cfd162a1ce"
      },
      "source": [
        "ax = sns.lineplot(x = [i for i in range(EPOCHS)], y = train_history, label = 'Train accuracy');\n",
        "ax = sns.lineplot(x = [i for i in range(EPOCHS)], y = val_history, label = 'Val accuracy');\n",
        "ax.set(xlabel = 'Epoch', ylabel = 'Accuracy');"
      ],
      "execution_count": null,
      "outputs": [
        {
          "output_type": "display_data",
          "data": {
            "image/png": "[encoded data removed]",
            "text/plain": [
              "<Figure size 432x288 with 1 Axes>"
            ]
          },
          "metadata": {
            "tags": [],
            "needs_background": "light"
          }
        }
      ]
    },
    {
      "cell_type": "code",
      "metadata": {
        "colab": {
          "base_uri": "https://localhost:8080/",
          "height": 279
        },
        "id": "vPflirHGJu3L",
        "outputId": "18452500-b43a-4d79-ed4a-300ff2fe3662"
      },
      "source": [
        "ax = sns.lineplot(x = [i for i in range(EPOCHS)], y = loss_history, label = 'Loss');\n",
        "ax.set(xlabel = 'Epoch', ylabel = 'Loss');"
      ],
      "execution_count": null,
      "outputs": [
        {
          "output_type": "display_data",
          "data": {
            "image/png": "[encoded data removed]",
            "text/plain": [
              "<Figure size 432x288 with 1 Axes>"
            ]
          },
          "metadata": {
            "tags": [],
            "needs_background": "light"
          }
        }
      ]
    },
    {
      "cell_type": "code",
      "metadata": {
        "trusted": true,
        "colab": {
          "base_uri": "https://localhost:8080/"
        },
        "id": "DC53ah5_RPab",
        "outputId": "c40166b8-f34f-4ade-ae9f-a2b898e0ab5a"
      },
      "source": [
        "## check on test dataset\n",
        "\n",
        "precision, recall, f1, accuracy = binary_classification_metrics(conv_net, test_loader)\n",
        "print(f'Accuracy = {np.round(accuracy, 2)}')\n",
        "print(f'Precision = {np.round(precision, 2)}')\n",
        "print(f'Recall = {np.round(recall, 2)}')\n",
        "print(f'F1 = {np.round(f1, 2)}')"
      ],
      "execution_count": null,
      "outputs": [
        {
          "output_type": "stream",
          "text": [
            "Accuracy = 0.99\n",
            "Precision = 1.0\n",
            "Recall = 0.99\n",
            "F1 = 0.99\n"
          ],
          "name": "stdout"
        }
      ]
    },
    {
      "cell_type": "code",
      "metadata": {
        "trusted": true,
        "id": "XE6BHvMGRPab"
      },
      "source": [
        "# torch.save(conv_net.state_dict(), 'conv-net_1e-4_10-EPOCHS')"
      ],
      "execution_count": null,
      "outputs": []
    },
    {
      "cell_type": "markdown",
      "metadata": {
        "id": "DIab9Ve0RPac"
      },
      "source": [
        "##### GRU Net"
      ]
    },
    {
      "cell_type": "code",
      "metadata": {
        "trusted": true,
        "id": "TCixyqfMRPac"
      },
      "source": [
        "class GRUNet(nn.Module):\n",
        "    def __init__(self, pretrained_embeddings = True):\n",
        "        super().__init__()\n",
        "        self.embedding = nn.Embedding(len(embedding_glove), 100)  ## Config.sent_len x 100\n",
        "        if pretrained_embeddings:\n",
        "            self.embedding = self.embedding.from_pretrained(embedding_glove.vectors)\n",
        "        \n",
        "        self.gru = nn.GRU(100, Config.hidden_dim, Config.gru_n_layers, \n",
        "                          bidirectional = True, batch_first = True)\n",
        "        \n",
        "        self.layer = nn.Sequential(\n",
        "            nn.Linear(2 * Config.hidden_dim, 1024),\n",
        "            nn.ReLU(),\n",
        "            nn.Linear(1024, 128),\n",
        "            nn.ReLU(),\n",
        "            nn.Linear(128, 2),\n",
        "            nn.Sigmoid()\n",
        "        )\n",
        "\n",
        "    def forward(self, inp):\n",
        "        inp = self.embedding(inp)\n",
        "        inp, h = self.gru(inp)\n",
        "        # concat the final output of forward direction and backward direction\n",
        "        h = torch.cat((h[-2,:,:], h[-1,:,:]), dim = 1)\n",
        "        out = self.layer(h)\n",
        "        return out"
      ],
      "execution_count": null,
      "outputs": []
    },
    {
      "cell_type": "code",
      "metadata": {
        "trusted": true,
        "colab": {
          "base_uri": "https://localhost:8080/"
        },
        "id": "yG6JkrQjRPad",
        "outputId": "fc8cd7d4-22f8-47d6-ba5b-f05133a24391"
      },
      "source": [
        "## random embeddings\n",
        "\n",
        "import torch.optim as optim\n",
        "\n",
        "torch.cuda.empty_cache()\n",
        "\n",
        "gru_net_random_embeddings = GRUNet(pretrained_embeddings = False)\n",
        "gru_net_random_embeddings.to(device)\n",
        "parameters = gru_net_random_embeddings.parameters()\n",
        "\n",
        "EPOCHS = 10\n",
        "\n",
        "loss = nn.CrossEntropyLoss()\n",
        "optimizer = optim.Adam(parameters, 1e-3)\n",
        "scheduler = optim.lr_scheduler.CosineAnnealingLR(optimizer, T_max = 25)\n",
        "loss_history, train_history, val_history = train_model(gru_net_random_embeddings, train_loader, val_loader,\\\n",
        "                                                       loss, optimizer, EPOCHS, scheduler)"
      ],
      "execution_count": null,
      "outputs": [
        {
          "output_type": "stream",
          "text": [
            "Epoch: 0, Average loss: 0.664432, Train accuracy: 0.667683, Val accuracy: 0.863558\n",
            "Epoch: 1, Average loss: 0.426839, Train accuracy: 0.905183, Val accuracy: 0.922280\n",
            "Epoch: 2, Average loss: 0.373383, Train accuracy: 0.953354, Val accuracy: 0.941278\n",
            "Epoch: 3, Average loss: 0.361447, Train accuracy: 0.963415, Val accuracy: 0.960276\n",
            "Epoch: 4, Average loss: 0.349215, Train accuracy: 0.978049, Val accuracy: 0.968912\n",
            "Epoch: 5, Average loss: 0.344894, Train accuracy: 0.981707, Val accuracy: 0.963731\n",
            "Epoch: 6, Average loss: 0.344163, Train accuracy: 0.982012, Val accuracy: 0.965458\n",
            "Epoch: 7, Average loss: 0.340512, Train accuracy: 0.985976, Val accuracy: 0.974093\n",
            "Epoch: 8, Average loss: 0.340244, Train accuracy: 0.986280, Val accuracy: 0.974093\n",
            "Epoch: 9, Average loss: 0.340236, Train accuracy: 0.986280, Val accuracy: 0.974093\n"
          ],
          "name": "stdout"
        }
      ]
    },
    {
      "cell_type": "code",
      "metadata": {
        "colab": {
          "base_uri": "https://localhost:8080/",
          "height": 282
        },
        "id": "6A0y5V5cJgPE",
        "outputId": "41957343-8e2c-4410-d256-d34df3248d67"
      },
      "source": [
        "ax = sns.lineplot(x = [i for i in range(EPOCHS)], y = train_history, label = 'Train accuracy');\n",
        "ax = sns.lineplot(x = [i for i in range(EPOCHS)], y = val_history, label = 'Val accuracy');\n",
        "ax.set(xlabel = 'Epoch', ylabel = 'Accuracy');"
      ],
      "execution_count": null,
      "outputs": [
        {
          "output_type": "display_data",
          "data": {
            "image/png": "[encoded data removed]",
            "text/plain": [
              "<Figure size 432x288 with 1 Axes>"
            ]
          },
          "metadata": {
            "tags": [],
            "needs_background": "light"
          }
        }
      ]
    },
    {
      "cell_type": "code",
      "metadata": {
        "colab": {
          "base_uri": "https://localhost:8080/",
          "height": 279
        },
        "id": "v68qmmtbJv8J",
        "outputId": "06c4dbf5-dd8e-441e-fe86-6fdb0e15b55c"
      },
      "source": [
        "ax = sns.lineplot(x = [i for i in range(EPOCHS)], y = loss_history, label = 'Loss');\n",
        "ax.set(xlabel = 'Epoch', ylabel = 'Loss');"
      ],
      "execution_count": null,
      "outputs": [
        {
          "output_type": "display_data",
          "data": {
            "image/png": "[encoded data removed]",
            "text/plain": [
              "<Figure size 432x288 with 1 Axes>"
            ]
          },
          "metadata": {
            "tags": [],
            "needs_background": "light"
          }
        }
      ]
    },
    {
      "cell_type": "code",
      "metadata": {
        "trusted": true,
        "colab": {
          "base_uri": "https://localhost:8080/"
        },
        "id": "x2VYyZnTRPad",
        "outputId": "1ad67f0c-3e08-4d37-b37e-d0a7ffaaed82"
      },
      "source": [
        "## check on test dataset\n",
        "\n",
        "precision, recall, f1, accuracy = binary_classification_metrics(gru_net_random_embeddings, test_loader)\n",
        "print(f'Accuracy = {np.round(accuracy, 2)}')\n",
        "print(f'Precision = {np.round(precision, 2)}')\n",
        "print(f'Recall = {np.round(recall, 2)}')\n",
        "print(f'F1 = {np.round(f1, 2)}')"
      ],
      "execution_count": null,
      "outputs": [
        {
          "output_type": "stream",
          "text": [
            "Accuracy = 0.96\n",
            "Precision = 0.97\n",
            "Recall = 0.96\n",
            "F1 = 0.97\n"
          ],
          "name": "stdout"
        }
      ]
    },
    {
      "cell_type": "code",
      "metadata": {
        "trusted": true,
        "colab": {
          "base_uri": "https://localhost:8080/"
        },
        "id": "_6-h25KIRPad",
        "outputId": "211fb608-fff5-4252-8cb0-905fb1d313ac"
      },
      "source": [
        "## pretrained embeddings\n",
        "\n",
        "import torch.optim as optim\n",
        "\n",
        "torch.cuda.empty_cache()\n",
        "\n",
        "gru_net = GRUNet(pretrained_embeddings = True)\n",
        "gru_net.to(device)\n",
        "parameters = gru_net.parameters()\n",
        "\n",
        "EPOCHS = 10\n",
        "\n",
        "loss = nn.CrossEntropyLoss()\n",
        "optimizer = optim.Adam(parameters, 1e-3)\n",
        "scheduler = optim.lr_scheduler.CosineAnnealingLR(optimizer, T_max = 25)\n",
        "loss_history, train_history, val_history = train_model(gru_net, train_loader, val_loader,\\\n",
        "                                                       loss, optimizer, EPOCHS, scheduler)"
      ],
      "execution_count": null,
      "outputs": [
        {
          "output_type": "stream",
          "text": [
            "Epoch: 0, Average loss: 0.678693, Train accuracy: 0.682317, Val accuracy: 0.870466\n",
            "Epoch: 1, Average loss: 0.415216, Train accuracy: 0.918598, Val accuracy: 0.943005\n",
            "Epoch: 2, Average loss: 0.369966, Train accuracy: 0.956707, Val accuracy: 0.953368\n",
            "Epoch: 3, Average loss: 0.363395, Train accuracy: 0.961585, Val accuracy: 0.974093\n",
            "Epoch: 4, Average loss: 0.345116, Train accuracy: 0.980793, Val accuracy: 0.979275\n",
            "Epoch: 5, Average loss: 0.348158, Train accuracy: 0.976829, Val accuracy: 0.948187\n",
            "Epoch: 6, Average loss: 0.348104, Train accuracy: 0.977744, Val accuracy: 0.962003\n",
            "Epoch: 7, Average loss: 0.342225, Train accuracy: 0.982927, Val accuracy: 0.991364\n",
            "Epoch: 8, Average loss: 0.336930, Train accuracy: 0.988720, Val accuracy: 0.989637\n",
            "Epoch: 9, Average loss: 0.335511, Train accuracy: 0.990549, Val accuracy: 0.987910\n"
          ],
          "name": "stdout"
        }
      ]
    },
    {
      "cell_type": "code",
      "metadata": {
        "colab": {
          "base_uri": "https://localhost:8080/",
          "height": 279
        },
        "id": "UDh-3lTIJhLh",
        "outputId": "fa0f7d1f-6628-414e-eebe-66030093708c"
      },
      "source": [
        "ax = sns.lineplot(x = [i for i in range(EPOCHS)], y = train_history, label = 'Train accuracy');\n",
        "ax = sns.lineplot(x = [i for i in range(EPOCHS)], y = val_history, label = 'Val accuracy');\n",
        "ax.set(xlabel = 'Epoch', ylabel = 'Accuracy');"
      ],
      "execution_count": null,
      "outputs": [
        {
          "output_type": "display_data",
          "data": {
            "image/png": "[encoded data removed]",
            "text/plain": [
              "<Figure size 432x288 with 1 Axes>"
            ]
          },
          "metadata": {
            "tags": [],
            "needs_background": "light"
          }
        }
      ]
    },
    {
      "cell_type": "code",
      "metadata": {
        "colab": {
          "base_uri": "https://localhost:8080/",
          "height": 279
        },
        "id": "Cv9oJJ71JxW0",
        "outputId": "94342358-1013-4378-e393-7ee42de8cd92"
      },
      "source": [
        "ax = sns.lineplot(x = [i for i in range(EPOCHS)], y = loss_history, label = 'Loss');\n",
        "ax.set(xlabel = 'Epoch', ylabel = 'Loss');"
      ],
      "execution_count": null,
      "outputs": [
        {
          "output_type": "display_data",
          "data": {
            "image/png": "[encoded data removed]",
            "text/plain": [
              "<Figure size 432x288 with 1 Axes>"
            ]
          },
          "metadata": {
            "tags": [],
            "needs_background": "light"
          }
        }
      ]
    },
    {
      "cell_type": "code",
      "metadata": {
        "trusted": true,
        "colab": {
          "base_uri": "https://localhost:8080/"
        },
        "id": "88sy-u5URPae",
        "outputId": "e7356ecd-295a-4232-a1c7-19a04763916e"
      },
      "source": [
        "## check on test dataset\n",
        "\n",
        "precision, recall, f1, accuracy = binary_classification_metrics(gru_net, test_loader)\n",
        "print(f'Accuracy = {np.round(accuracy, 2)}')\n",
        "print(f'Precision = {np.round(precision, 2)}')\n",
        "print(f'Recall = {np.round(recall, 2)}')\n",
        "print(f'F1 = {np.round(f1, 2)}')"
      ],
      "execution_count": null,
      "outputs": [
        {
          "output_type": "stream",
          "text": [
            "Accuracy = 0.99\n",
            "Precision = 1.0\n",
            "Recall = 0.97\n",
            "F1 = 0.99\n"
          ],
          "name": "stdout"
        }
      ]
    },
    {
      "cell_type": "markdown",
      "metadata": {
        "id": "H0DdN121jX2B"
      },
      "source": [
        "![image.png](data:image/png;base64,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)"
      ]
    }
  ]
}